{
 "cells": [
  {
   "cell_type": "code",
   "execution_count": 118,
   "id": "9dd1cbe6",
   "metadata": {
    "scrolled": false
   },
   "outputs": [
    {
     "data": {
      "text/plain": [
       "['plate',\n",
       " 'ifudsgn',\n",
       " 'plateifu',\n",
       " 'mangaid',\n",
       " 'versdrp2',\n",
       " 'versdrp3',\n",
       " 'verscore',\n",
       " 'versutil',\n",
       " 'versprim',\n",
       " 'platetyp',\n",
       " 'srvymode',\n",
       " 'objra',\n",
       " 'objdec',\n",
       " 'ifuglon',\n",
       " 'ifuglat',\n",
       " 'ifura',\n",
       " 'ifudec',\n",
       " 'ebvgal',\n",
       " 'nexp',\n",
       " 'exptime',\n",
       " 'drp3qual',\n",
       " 'bluesn2',\n",
       " 'redsn2',\n",
       " 'harname',\n",
       " 'frlplug',\n",
       " 'cartid',\n",
       " 'designid',\n",
       " 'cenra',\n",
       " 'cendec',\n",
       " 'airmsmin',\n",
       " 'airmsmed',\n",
       " 'airmsmax',\n",
       " 'seemin',\n",
       " 'seemed',\n",
       " 'seemax',\n",
       " 'transmin',\n",
       " 'transmed',\n",
       " 'transmax',\n",
       " 'mjdmin',\n",
       " 'mjdmed',\n",
       " 'mjdmax',\n",
       " 'gfwhm',\n",
       " 'rfwhm',\n",
       " 'ifwhm',\n",
       " 'zfwhm',\n",
       " 'mngtarg1',\n",
       " 'mngtarg2',\n",
       " 'mngtarg3',\n",
       " 'catidnum',\n",
       " 'plttarg',\n",
       " 'manga_tileid',\n",
       " 'nsa_iauname',\n",
       " 'ifudesignsize',\n",
       " 'ifutargetsize',\n",
       " 'ifudesignwrongsize',\n",
       " 'z',\n",
       " 'zmin',\n",
       " 'zmax',\n",
       " 'szmin',\n",
       " 'szmax',\n",
       " 'ezmin',\n",
       " 'ezmax',\n",
       " 'probs',\n",
       " 'pweight',\n",
       " 'psweight',\n",
       " 'psrweight',\n",
       " 'sweight',\n",
       " 'srweight',\n",
       " 'eweight',\n",
       " 'esweight',\n",
       " 'esrweight',\n",
       " 'nsa_field',\n",
       " 'nsa_run',\n",
       " 'nsa_camcol',\n",
       " 'nsa_version',\n",
       " 'nsa_nsaid',\n",
       " 'nsa_nsaid_v1b',\n",
       " 'nsa_z',\n",
       " 'nsa_zdist',\n",
       " 'nsa_sersic_absmag',\n",
       " 'nsa_elpetro_absmag',\n",
       " 'nsa_elpetro_amivar',\n",
       " 'nsa_sersic_mass',\n",
       " 'nsa_elpetro_mass',\n",
       " 'nsa_elpetro_ba',\n",
       " 'nsa_elpetro_phi',\n",
       " 'nsa_extinction',\n",
       " 'nsa_elpetro_th50_r',\n",
       " 'nsa_petro_th50',\n",
       " 'nsa_petro_flux',\n",
       " 'nsa_petro_flux_ivar',\n",
       " 'nsa_elpetro_flux',\n",
       " 'nsa_elpetro_flux_ivar',\n",
       " 'nsa_sersic_ba',\n",
       " 'nsa_sersic_n',\n",
       " 'nsa_sersic_phi',\n",
       " 'nsa_sersic_th50',\n",
       " 'nsa_sersic_flux',\n",
       " 'nsa_sersic_flux_ivar']"
      ]
     },
     "execution_count": 118,
     "metadata": {},
     "output_type": "execute_result"
    }
   ],
   "source": [
    "# Import libraries\n",
    "import numpy as np\n",
    "import matplotlib.pyplot as plt\n",
    "from astropy.io import fits\n",
    "\n",
    "# Open data\n",
    "drpall = fits.open('/Users/Jonah/sas/dr17/manga/spectro/redux/v3_1_1/drpall-v3_1_1.fits')\n",
    "tbdata = drpall[1].data\n",
    "\n",
    "# Prints column names\n",
    "tbdata.columns.names"
   ]
  },
  {
   "cell_type": "code",
   "execution_count": 112,
   "id": "9244866a",
   "metadata": {},
   "outputs": [
    {
     "name": "stdout",
     "output_type": "stream",
     "text": [
      "index:  4775\n",
      "mangaid:  1-37211\n",
      "redshift = 0.0280766\n",
      "sersic mass (M_☉):  41928000000.0\n",
      "petrosian mass (M_☉):  29756000000.0\n"
     ]
    }
   ],
   "source": [
    "# Finding the index for our galaxy using plateifu\n",
    "ind = np.where(tbdata['plateifu'] == '8078-12703')[0][0]\n",
    "print(\"index: \", ind)\n",
    "\n",
    "# Find mangaid\n",
    "print(\"mangaid: \", tbdata['mangaid'][ind])\n",
    "\n",
    "# Printing the redshift of this index corresponding to our galaxy\n",
    "print('redshift =', tbdata['nsa_z'][ind])\n",
    "\n",
    "# Printing sersic mass\n",
    "print(\"sersic mass (M_\\u2609): \", tbdata['nsa_sersic_mass'][ind])\n",
    "\n",
    "# Printing petrosian mass\n",
    "print(\"petrosian mass (M_\\u2609): \", tbdata['nsa_elpetro_mass'][ind])"
   ]
  },
  {
   "cell_type": "code",
   "execution_count": 155,
   "id": "f8209258",
   "metadata": {},
   "outputs": [
    {
     "name": "stdout",
     "output_type": "stream",
     "text": [
      "plateifus:  ['10001-12701' '10001-12702' '10001-12703' ... '9894-6104' '9894-9101'\n",
      " '9894-9102']\n",
      "number of plateifus: 11273\n",
      "random_ids:  [ 7812  1341  9558  7012  5542 11160  3465   754  7749  6453   298  8455\n",
      "  9991 11108  8962  3868  2879 10015  6779  1169 10987  8831  8368  1516\n",
      " 10195  2456  3477  4724   648  6580  5014  9746 10319  4179  3391  4184\n",
      "  6706  3946  5322   375  1628  1455  2375  8415  1617  6846  7699  8011\n",
      " 10455  5793  6685 10956  6368  6803  9064  7588  3240  2966  8785  4884\n",
      "  1783  4030  7338  5153  7100  5952   985  7517  7178  6966  9271  3051\n",
      "  7427  3996 10367  2711 10933  7964  9502  3294   767  5190  1187  8043\n",
      "  7058  2564  5496  2669  3998  9034  1770  6823 10668  4411  2700  7266\n",
      "  9053  2547  5969  6275]\n",
      "type:  <class 'numpy.int64'>\n"
     ]
    }
   ],
   "source": [
    "# Find number of galaxies in MaNGA sample\n",
    "plateifus = tbdata[\"plateifu\"]\n",
    "\n",
    "print(\"plateifus: \", plateifus)\n",
    "print(\"number of plateifus:\", len(plateifus))\n",
    "\n",
    "# Generate set of random indexes\n",
    "random_ids = np.random.randint(low=0, high=len(plateifus), size=100)\n",
    "print(\"random_ids: \", random_ids)\n",
    "print(\"type: \", type(random_ids[0]))\n",
    "\n",
    "# Save list of 100 ids to a text file\n",
    "np.savetxt(\"100_random_galaxy_ids.txt\", random_ids, fmt=\"%d\")"
   ]
  },
  {
   "cell_type": "code",
   "execution_count": 167,
   "id": "4fd34873",
   "metadata": {},
   "outputs": [
    {
     "name": "stdout",
     "output_type": "stream",
     "text": [
      "index:  4775\n",
      "plateifu 8078-12703\n",
      "drp3qual:  4096\n",
      "index:  2456\n",
      "plateifu 11950-6102\n",
      "drp3qual:  1073746242\n"
     ]
    }
   ],
   "source": [
    "# Finding the index for our galaxy using plateifu\n",
    "ids =['8078-12703', '11950-6102']\n",
    "\n",
    "for i in range(len(ids)):\n",
    "\n",
    "    ind = np.where(tbdata['plateifu'] == ids[i])[0][0]\n",
    "    print(\"index: \", ind)\n",
    "\n",
    "    plateifu = tbdata[\"plateifu\"][ind]\n",
    "    print(\"plateifu\", plateifu)\n",
    "\n",
    "    drp3qual = tbdata[\"drp3qual\"][ind]\n",
    "    print(\"drp3qual: \", drp3qual)"
   ]
  },
  {
   "cell_type": "code",
   "execution_count": 171,
   "id": "62ccf8f6",
   "metadata": {},
   "outputs": [
    {
     "data": {
      "text/plain": [
       "array([0, 0, 0, ..., 0, 0, 0])"
      ]
     },
     "execution_count": 171,
     "metadata": {},
     "output_type": "execute_result"
    }
   ],
   "source": [
    "# Open data\n",
    "dapall = fits.open('/Users/Jonah/sas/dr17/manga/spectro/analysis/v3_1_1/3.1.0/dapall-v3_1_1-3.1.0.fits')\n",
    "tbdata = dapall[1].data\n",
    "\n",
    "# Prints column names\n",
    "tbdata.columns.names\n",
    "\n",
    "# Search for DAPQUAL\n",
    "dapqual = tbdata[\"DAPQUAL\"]\n",
    "dapqual"
   ]
  }
 ],
 "metadata": {
  "kernelspec": {
   "display_name": "Python 3",
   "language": "python",
   "name": "python3"
  },
  "language_info": {
   "codemirror_mode": {
    "name": "ipython",
    "version": 3
   },
   "file_extension": ".py",
   "mimetype": "text/x-python",
   "name": "python",
   "nbconvert_exporter": "python",
   "pygments_lexer": "ipython3",
   "version": "3.8.8"
  }
 },
 "nbformat": 4,
 "nbformat_minor": 5
}
