{
 "cells": [
  {
   "cell_type": "markdown",
   "id": "1d657e59",
   "metadata": {},
   "source": [
    "### Code that obtains stellar, gas and residual velocity maps alongside resiudal velocity value for a set of galaxies"
   ]
  },
  {
   "cell_type": "markdown",
   "id": "0c2e32d4",
   "metadata": {},
   "source": [
    "Import all necessary libraries, including extra code needed to run smoothly"
   ]
  },
  {
   "cell_type": "code",
   "execution_count": null,
   "id": "92c2fa9e",
   "metadata": {},
   "outputs": [],
   "source": [
    "import numpy as np\n",
    "import marvin\n",
    "from marvin import config\n",
    "import pandas as pd\n",
    "from marvin.tools import Maps\n",
    "from astropy.io import fits\n",
    "import matplotlib.pyplot as plt\n",
    "\n",
    "# Set Marvin release to DR17 and avoid API error\n",
    "config.setDR('DR17')\n",
    "config.switchSasUrl(sasmode='mirror')"
   ]
  },
  {
   "cell_type": "markdown",
   "id": "740fc869",
   "metadata": {},
   "source": [
    "Define function to calculate the masked resiudal velocity of a galaxy"
   ]
  },
  {
   "cell_type": "code",
   "execution_count": null,
   "id": "cfed0cdc",
   "metadata": {},
   "outputs": [],
   "source": [
    "def calculate_delta_v_star_g(stellar_vel, gas_vel):\n",
    "    \"\"\"\n",
    "    \n",
    "    Calculates the absolute difference in the stellar and gas velocity at each point in a maps as follows:\n",
    "    \n",
    "    |Δ_v-g| = |stellar_vel(x, y) - gas_vel(x, y)|\n",
    "    \n",
    "    Also calculates the sum of the residual map at each point to give a value to quantify the offset \n",
    "    between the gas and stellar velocity\n",
    "    \n",
    "    INPUT\n",
    "    stellar_vel: stellar velocity map values\n",
    "    gas_vel: gas velocity map values\n",
    "    \n",
    "    OUTPUT\n",
    "    dvsg_map: absolute map of difference between stellar and gas velocity\n",
    "    dvsg_sum: sum of dvsg at each point on the dvsg map\n",
    "    \"\"\"\n",
    "    \n",
    "    # Create residual map\n",
    "    dvsg_map = np.abs(stellar_vel - gas_vel)\n",
    "    \n",
    "    # Calculate summed residual value\n",
    "    dvsg_sum = np.sum(dvsg_map)\n",
    "    \n",
    "    return dvsg_map, dvsg_sum"
   ]
  },
  {
   "cell_type": "markdown",
   "id": "c9037120",
   "metadata": {},
   "source": [
    "Access .txt file containing set of 100 selected MaNGA candidates that satisfy selection criteria"
   ]
  },
  {
   "cell_type": "code",
   "execution_count": null,
   "id": "55acefab",
   "metadata": {},
   "outputs": [],
   "source": [
    "candidates = np.loadtxt(\"100_galaxy_plateifu_list.txt\", dtype='int')  # Access as integer"
   ]
  },
  {
   "cell_type": "markdown",
   "id": "7464abf8",
   "metadata": {},
   "source": [
    "Open DRPall fits file"
   ]
  },
  {
   "cell_type": "code",
   "execution_count": null,
   "id": "2b8d0ea4",
   "metadata": {},
   "outputs": [],
   "source": [
    "# Open data\n",
    "drpall = fits.open('/Users/Jonah/sas/dr17/manga/spectro/redux/v3_1_1/drpall-v3_1_1.fits')\n",
    "tbdata = drpall[1].data"
   ]
  },
  {
   "cell_type": "markdown",
   "id": "9db9c20e",
   "metadata": {},
   "source": [
    "Loop over all selected galaxies to obtain stellar, gas and residual maps and residual value"
   ]
  },
  {
   "cell_type": "code",
   "execution_count": null,
   "id": "435166d1",
   "metadata": {
    "scrolled": true
   },
   "outputs": [],
   "source": [
    "# Create lists to store values\n",
    "stellar_vel_map_list = []\n",
    "gas_vel_map_list = []\n",
    "dvsg_map_list = []\n",
    "dvsg_sum_list = []\n",
    "\n",
    "# Run over all galaxies in sample and add each value to respective list\n",
    "for i in range(len(candidates)):\n",
    "    \n",
    "    # Access plateifu of random id\n",
    "    plateifu = tbdata[\"plateifu\"][candidates[i]]\n",
    "    \n",
    "    print(i)\n",
    "    print(\"PlateIFU: \", plateifu)\n",
    "    \n",
    "    # Use Marvin to load in ith map\n",
    "    maps = Maps(str(plateifu), download=False)  # Data already downloaded to local drive\n",
    "    \n",
    "    # Obtain MASKED stellar and gas velocities\n",
    "    sv_map = maps.stellar_vel.masked\n",
    "    gv_map = maps.emline_gvel_ha_6554.masked\n",
    "    \n",
    "    # Pass though residual function to obtain residual map and summed residual value\n",
    "    dvsg_out = calculate_delta_v_star_g(stellar_vel=sv_map, gas_vel=gv_map)\n",
    "    dvsg_map = dvsg_out[0]\n",
    "    dvsg_sum = dvsg_out[1]\n",
    "    \n",
    "    # Append data to lists\n",
    "    stellar_vel_map_list.append(sv_map)\n",
    "    gas_vel_map_list.append(gv_map)\n",
    "    dvsg_map_list.append(dvsg_map)\n",
    "    dvsg_sum_list.append(dvsg_sum)"
   ]
  },
  {
   "cell_type": "markdown",
   "id": "15b27dc2",
   "metadata": {},
   "source": [
    "Create a DataFrame directly from the lists using a dictionary"
   ]
  },
  {
   "cell_type": "code",
   "execution_count": null,
   "id": "a5477b65",
   "metadata": {},
   "outputs": [],
   "source": [
    "df = pd.DataFrame({\n",
    "    'sv_maps': stellar_vel_map_list,\n",
    "    'gv_maps': gas_vel_map_list,\n",
    "    'dvsg_maps': dvsg_map_list,\n",
    "    'dvsg_sums': dvsg_sum_list\n",
    "})\n",
    "\n",
    "df.head()"
   ]
  },
  {
   "cell_type": "code",
   "execution_count": null,
   "id": "75d044dc",
   "metadata": {},
   "outputs": [],
   "source": [
    "print(dvsg_sum_list)"
   ]
  },
  {
   "cell_type": "markdown",
   "id": "85164d7a",
   "metadata": {},
   "source": [
    "### Analyse sample"
   ]
  },
  {
   "cell_type": "markdown",
   "id": "5108b32e",
   "metadata": {},
   "source": [
    "Plot first 3 galaxies in sample"
   ]
  },
  {
   "cell_type": "code",
   "execution_count": null,
   "id": "a87b9975",
   "metadata": {},
   "outputs": [],
   "source": [
    "# Create figure\n",
    "fig, ax = plt.subplots(nrows=3, ncols=3, figsize=(15, 15))\n",
    "\n",
    "for i in range(3):\n",
    "\n",
    "    # Access ith row of data\n",
    "    sv = df['sv_maps'][i].data\n",
    "    gv = df['gv_maps'][i].data\n",
    "    dvsg = df['dvsg_maps'][i].data\n",
    "    dvsg_sum = df['dvsg_sums'][i]\n",
    "\n",
    "    # Print plateifu to verify with Marvin Web\n",
    "    print(\"Plateifu: \", tbdata[\"plateifu\"][candidates[i]])\n",
    "\n",
    "    # Generate x and y coordinates for plotting\n",
    "    x = np.arange(np.shape(sv)[0])\n",
    "    y = x\n",
    "\n",
    "    # Plot sv colormap\n",
    "    sv_pcolormesh = ax[i, 0].pcolormesh(x, y, sv, shading=\"auto\", cmap=\"RdBu_r\")\n",
    "    fig.colorbar(sv_pcolormesh, ax=ax[i, 0])\n",
    "    ax[i, 0].set_aspect('equal')\n",
    "    ax[i, 0].set_title(\"Stellar velocity\")\n",
    "\n",
    "    # Plot gv colormap\n",
    "    gv_pcolormesh = ax[i, 1].pcolormesh(x, y, gv, shading=\"auto\", cmap=\"RdBu_r\")\n",
    "    fig.colorbar(gv_pcolormesh, ax=ax[i, 1])\n",
    "    ax[i, 1].set_aspect('equal')\n",
    "    ax[i, 1].set_title(\"Gas velocity\")\n",
    "\n",
    "    # Plot dvsg colormap\n",
    "    dvsg_pcolormesh = ax[i, 2].pcolormesh(x, y, dvsg, shading=\"auto\", cmap=\"RdBu_r\")\n",
    "    fig.colorbar(dvsg_pcolormesh, ax=ax[i, 2])\n",
    "    ax[i, 2].set_aspect('equal')\n",
    "    ax[i, 2].set_title(r\"$|\\Delta V_{\\star-g}|$ = \" + \"{:.2f}\".format(dvsg_sum));"
   ]
  }
 ],
 "metadata": {
  "kernelspec": {
   "display_name": "Python 3",
   "language": "python",
   "name": "python3"
  },
  "language_info": {
   "codemirror_mode": {
    "name": "ipython",
    "version": 3
   },
   "file_extension": ".py",
   "mimetype": "text/x-python",
   "name": "python",
   "nbconvert_exporter": "python",
   "pygments_lexer": "ipython3",
   "version": "3.8.8"
  }
 },
 "nbformat": 4,
 "nbformat_minor": 5
}
